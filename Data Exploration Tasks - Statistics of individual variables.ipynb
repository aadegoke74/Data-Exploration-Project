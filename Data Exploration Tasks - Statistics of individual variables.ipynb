{
 "cells": [
  {
   "cell_type": "markdown",
   "id": "9e2f8930",
   "metadata": {},
   "source": [
    "## ADEDAYO ADEGOKE PORTFOLIO"
   ]
  },
  {
   "cell_type": "markdown",
   "id": "7c92bb95",
   "metadata": {},
   "source": [
    "**Data Exploration Tasks - Statistics of individual variables:**\n",
    "\n",
    "**3. For each of the three individual numerical variables below,** summarise and comment\n",
    "upon the data by calculating relevant summary statistics and by creating two possible\n",
    "visualisations of their distributions for each variable.\n",
    "   \n",
    "   **a) time**\n",
    "    \n",
    "   **b) TEU**\n",
    "    \n",
    "   **c) wind**\n",
    "\n",
    "**4. For each of the individual categorical variables below,** summarise and comment upon\n",
    "the data by calculating the frequency and relative proportion of each possible value,\n",
    "and by creating two suitable visualisations of their distributions.\n",
    "    \n",
    "   **a) origin**\n",
    "    \n",
    "   **b) labour**"
   ]
  },
  {
   "cell_type": "markdown",
   "id": "b71b780c",
   "metadata": {},
   "source": [
    "To summarise and comment upon the data for the three numerical variables (time, TEU, and wind), I calculate relevant summary statistics and create visualisations.\n",
    "\n",
    "a) Time:\n",
    "\n",
    "Time is a continuous numerical variable that likely represents a period or timestamp. Summary statistics and visualisations for time data can provide insights into patterns and trends over time.\n",
    "\n",
    "Summary Statistics:\n",
    "\n",
    "Mean (average time)\n",
    "Median (middle time)\n",
    "Standard Deviation (spread of time values)\n",
    "Minimum and Maximum (start and end times)\n",
    "Quartiles (25th, 50th, 75th percentiles)\n",
    "Visualisations:\n",
    "\n",
    "Time Series Plot: I create a line chart showing how the variable changes over time. This can reveal trends, seasonality, and outliers.\n",
    "\n",
    "Histogram or Density Plot: Create a histogram or density plot to show the distribution of time values. This can help identify any patterns in the time data."
   ]
  },
  {
   "cell_type": "markdown",
   "id": "ee2ceec5",
   "metadata": {},
   "source": [
    "### Data cleansing and wrangling\n",
    "\n",
    "Various methods have been used historically for missing values imputation. Dadi, K et al. (2021) used mean for imputation as it maintains the column's overall distribution and it is widely used. Therefore missing values for Gear and Wind shall be replaced their mean."
   ]
  },
  {
   "cell_type": "code",
   "execution_count": 1,
   "id": "17daa51c",
   "metadata": {
    "ExecuteTime": {
     "end_time": "2024-01-24T22:17:59.301115Z",
     "start_time": "2024-01-24T22:17:57.480137Z"
    }
   },
   "outputs": [
    {
     "name": "stdout",
     "output_type": "stream",
     "text": [
      "(1006, 13)\n"
     ]
    },
    {
     "data": {
      "text/html": [
       "<div>\n",
       "<style scoped>\n",
       "    .dataframe tbody tr th:only-of-type {\n",
       "        vertical-align: middle;\n",
       "    }\n",
       "\n",
       "    .dataframe tbody tr th {\n",
       "        vertical-align: top;\n",
       "    }\n",
       "\n",
       "    .dataframe thead th {\n",
       "        text-align: right;\n",
       "    }\n",
       "</style>\n",
       "<table border=\"1\" class=\"dataframe\">\n",
       "  <thead>\n",
       "    <tr style=\"text-align: right;\">\n",
       "      <th></th>\n",
       "      <th>time</th>\n",
       "      <th>TEU</th>\n",
       "      <th>loadratio</th>\n",
       "      <th>gear</th>\n",
       "      <th>wind</th>\n",
       "      <th>rain</th>\n",
       "      <th>weather</th>\n",
       "      <th>onSchedule</th>\n",
       "      <th>labour</th>\n",
       "      <th>origin</th>\n",
       "      <th>delay</th>\n",
       "      <th>date</th>\n",
       "      <th>port</th>\n",
       "    </tr>\n",
       "  </thead>\n",
       "  <tbody>\n",
       "    <tr>\n",
       "      <th>0</th>\n",
       "      <td>263.2</td>\n",
       "      <td>8645</td>\n",
       "      <td>85.4</td>\n",
       "      <td>0.0</td>\n",
       "      <td>3.9</td>\n",
       "      <td>8.4</td>\n",
       "      <td>disruptive</td>\n",
       "      <td>Yes</td>\n",
       "      <td>working</td>\n",
       "      <td>Intercontinental</td>\n",
       "      <td>No</td>\n",
       "      <td>2022-11-01</td>\n",
       "      <td>Abermouth</td>\n",
       "    </tr>\n",
       "    <tr>\n",
       "      <th>1</th>\n",
       "      <td>177.9</td>\n",
       "      <td>2106</td>\n",
       "      <td>80.8</td>\n",
       "      <td>1.0</td>\n",
       "      <td>7.5</td>\n",
       "      <td>7.7mm</td>\n",
       "      <td>disruptive</td>\n",
       "      <td>Yes</td>\n",
       "      <td>1</td>\n",
       "      <td>Intercontinental</td>\n",
       "      <td>Yes</td>\n",
       "      <td>2021-09-09</td>\n",
       "      <td>Abermouth</td>\n",
       "    </tr>\n",
       "    <tr>\n",
       "      <th>2</th>\n",
       "      <td>269.3</td>\n",
       "      <td>7872</td>\n",
       "      <td>90.4</td>\n",
       "      <td>3.0</td>\n",
       "      <td>6.9</td>\n",
       "      <td>19.3mm</td>\n",
       "      <td>disruptive</td>\n",
       "      <td>Yes</td>\n",
       "      <td>1</td>\n",
       "      <td>Intercontinental</td>\n",
       "      <td>No</td>\n",
       "      <td>2021-08-05</td>\n",
       "      <td>Abermouth</td>\n",
       "    </tr>\n",
       "    <tr>\n",
       "      <th>3</th>\n",
       "      <td>122.2</td>\n",
       "      <td>1938</td>\n",
       "      <td>72.2</td>\n",
       "      <td>1.0</td>\n",
       "      <td>8.9</td>\n",
       "      <td>3.8</td>\n",
       "      <td>normal</td>\n",
       "      <td>Yes</td>\n",
       "      <td>working</td>\n",
       "      <td>UK</td>\n",
       "      <td>No</td>\n",
       "      <td>2022-11-03</td>\n",
       "      <td>Abermouth</td>\n",
       "    </tr>\n",
       "    <tr>\n",
       "      <th>4</th>\n",
       "      <td>165.0</td>\n",
       "      <td>1669</td>\n",
       "      <td>80.0</td>\n",
       "      <td>4.0</td>\n",
       "      <td>2.0</td>\n",
       "      <td>0.1</td>\n",
       "      <td>normal</td>\n",
       "      <td>No</td>\n",
       "      <td>striking</td>\n",
       "      <td>UK</td>\n",
       "      <td>Yes</td>\n",
       "      <td>2022-02-01</td>\n",
       "      <td>Abermouth</td>\n",
       "    </tr>\n",
       "  </tbody>\n",
       "</table>\n",
       "</div>"
      ],
      "text/plain": [
       "    time   TEU  loadratio  gear  wind    rain     weather onSchedule  \\\n",
       "0  263.2  8645       85.4   0.0   3.9     8.4  disruptive        Yes   \n",
       "1  177.9  2106       80.8   1.0   7.5   7.7mm  disruptive        Yes   \n",
       "2  269.3  7872       90.4   3.0   6.9  19.3mm  disruptive        Yes   \n",
       "3  122.2  1938       72.2   1.0   8.9     3.8      normal        Yes   \n",
       "4  165.0  1669       80.0   4.0   2.0     0.1      normal         No   \n",
       "\n",
       "     labour            origin delay        date       port  \n",
       "0   working  Intercontinental    No  2022-11-01  Abermouth  \n",
       "1         1  Intercontinental   Yes  2021-09-09  Abermouth  \n",
       "2         1  Intercontinental    No  2021-08-05  Abermouth  \n",
       "3   working                UK    No  2022-11-03  Abermouth  \n",
       "4  striking                UK   Yes  2022-02-01  Abermouth  "
      ]
     },
     "execution_count": 1,
     "metadata": {},
     "output_type": "execute_result"
    }
   ],
   "source": [
    "# Loading necessary library\n",
    "import pandas as pd\n",
    "import matplotlib.pyplot as plt\n",
    "import seaborn as sns\n",
    "import numpy as np \n",
    "import statistics as stat\n",
    "\n",
    "# Load the data\n",
    "ports_replacemissing = pd.read_csv(\"ports.csv\")\n",
    "\n",
    "# Display the first few rows of the DataFrame to understand its structure\n",
    "print(ports_replacemissing.shape)\n",
    "ports_replacemissing.head()"
   ]
  },
  {
   "cell_type": "markdown",
   "id": "bf7fd532",
   "metadata": {},
   "source": [
    "Dataset after replacing missing values with their mean:"
   ]
  },
  {
   "cell_type": "code",
   "execution_count": 2,
   "id": "945d15fb",
   "metadata": {
    "ExecuteTime": {
     "end_time": "2024-01-24T22:18:05.028069Z",
     "start_time": "2024-01-24T22:18:05.010790Z"
    }
   },
   "outputs": [
    {
     "name": "stdout",
     "output_type": "stream",
     "text": [
      "\n",
      "Dataset after replacing missing values with their mean:\n"
     ]
    },
    {
     "data": {
      "text/html": [
       "<div>\n",
       "<style scoped>\n",
       "    .dataframe tbody tr th:only-of-type {\n",
       "        vertical-align: middle;\n",
       "    }\n",
       "\n",
       "    .dataframe tbody tr th {\n",
       "        vertical-align: top;\n",
       "    }\n",
       "\n",
       "    .dataframe thead th {\n",
       "        text-align: right;\n",
       "    }\n",
       "</style>\n",
       "<table border=\"1\" class=\"dataframe\">\n",
       "  <thead>\n",
       "    <tr style=\"text-align: right;\">\n",
       "      <th></th>\n",
       "      <th>time</th>\n",
       "      <th>TEU</th>\n",
       "      <th>loadratio</th>\n",
       "      <th>gear</th>\n",
       "      <th>wind</th>\n",
       "      <th>rain</th>\n",
       "      <th>weather</th>\n",
       "      <th>onSchedule</th>\n",
       "      <th>labour</th>\n",
       "      <th>origin</th>\n",
       "      <th>delay</th>\n",
       "      <th>date</th>\n",
       "      <th>port</th>\n",
       "    </tr>\n",
       "  </thead>\n",
       "  <tbody>\n",
       "    <tr>\n",
       "      <th>0</th>\n",
       "      <td>263.2</td>\n",
       "      <td>8645</td>\n",
       "      <td>85.4</td>\n",
       "      <td>0.0</td>\n",
       "      <td>3.9</td>\n",
       "      <td>8.4</td>\n",
       "      <td>disruptive</td>\n",
       "      <td>Yes</td>\n",
       "      <td>working</td>\n",
       "      <td>Intercontinental</td>\n",
       "      <td>No</td>\n",
       "      <td>2022-11-01</td>\n",
       "      <td>Abermouth</td>\n",
       "    </tr>\n",
       "    <tr>\n",
       "      <th>1</th>\n",
       "      <td>177.9</td>\n",
       "      <td>2106</td>\n",
       "      <td>80.8</td>\n",
       "      <td>1.0</td>\n",
       "      <td>7.5</td>\n",
       "      <td>7.7mm</td>\n",
       "      <td>disruptive</td>\n",
       "      <td>Yes</td>\n",
       "      <td>1</td>\n",
       "      <td>Intercontinental</td>\n",
       "      <td>Yes</td>\n",
       "      <td>2021-09-09</td>\n",
       "      <td>Abermouth</td>\n",
       "    </tr>\n",
       "    <tr>\n",
       "      <th>2</th>\n",
       "      <td>269.3</td>\n",
       "      <td>7872</td>\n",
       "      <td>90.4</td>\n",
       "      <td>3.0</td>\n",
       "      <td>6.9</td>\n",
       "      <td>19.3mm</td>\n",
       "      <td>disruptive</td>\n",
       "      <td>Yes</td>\n",
       "      <td>1</td>\n",
       "      <td>Intercontinental</td>\n",
       "      <td>No</td>\n",
       "      <td>2021-08-05</td>\n",
       "      <td>Abermouth</td>\n",
       "    </tr>\n",
       "    <tr>\n",
       "      <th>3</th>\n",
       "      <td>122.2</td>\n",
       "      <td>1938</td>\n",
       "      <td>72.2</td>\n",
       "      <td>1.0</td>\n",
       "      <td>8.9</td>\n",
       "      <td>3.8</td>\n",
       "      <td>normal</td>\n",
       "      <td>Yes</td>\n",
       "      <td>working</td>\n",
       "      <td>UK</td>\n",
       "      <td>No</td>\n",
       "      <td>2022-11-03</td>\n",
       "      <td>Abermouth</td>\n",
       "    </tr>\n",
       "    <tr>\n",
       "      <th>4</th>\n",
       "      <td>165.0</td>\n",
       "      <td>1669</td>\n",
       "      <td>80.0</td>\n",
       "      <td>4.0</td>\n",
       "      <td>2.0</td>\n",
       "      <td>0.1</td>\n",
       "      <td>normal</td>\n",
       "      <td>No</td>\n",
       "      <td>striking</td>\n",
       "      <td>UK</td>\n",
       "      <td>Yes</td>\n",
       "      <td>2022-02-01</td>\n",
       "      <td>Abermouth</td>\n",
       "    </tr>\n",
       "  </tbody>\n",
       "</table>\n",
       "</div>"
      ],
      "text/plain": [
       "    time   TEU  loadratio  gear  wind    rain     weather onSchedule  \\\n",
       "0  263.2  8645       85.4   0.0   3.9     8.4  disruptive        Yes   \n",
       "1  177.9  2106       80.8   1.0   7.5   7.7mm  disruptive        Yes   \n",
       "2  269.3  7872       90.4   3.0   6.9  19.3mm  disruptive        Yes   \n",
       "3  122.2  1938       72.2   1.0   8.9     3.8      normal        Yes   \n",
       "4  165.0  1669       80.0   4.0   2.0     0.1      normal         No   \n",
       "\n",
       "     labour            origin delay        date       port  \n",
       "0   working  Intercontinental    No  2022-11-01  Abermouth  \n",
       "1         1  Intercontinental   Yes  2021-09-09  Abermouth  \n",
       "2         1  Intercontinental    No  2021-08-05  Abermouth  \n",
       "3   working                UK    No  2022-11-03  Abermouth  \n",
       "4  striking                UK   Yes  2022-02-01  Abermouth  "
      ]
     },
     "execution_count": 2,
     "metadata": {},
     "output_type": "execute_result"
    }
   ],
   "source": [
    "# replace missing values with mean for each numeric column\n",
    "for col in ports_replacemissing.select_dtypes(include=['float64', 'int64']):\n",
    "    ports_replacemissing[col].fillna(ports_replacemissing[col].mean(), inplace=True)\n",
    "\n",
    "# Print the dataset after replacing missing values\n",
    "print(\"\\nDataset after replacing missing values with their mean:\")\n",
    "ports_replacemissing.head()"
   ]
  },
  {
   "cell_type": "code",
   "execution_count": 3,
   "id": "d4b17f1b",
   "metadata": {
    "ExecuteTime": {
     "end_time": "2024-01-24T22:18:05.773015Z",
     "start_time": "2024-01-24T22:18:05.760736Z"
    }
   },
   "outputs": [
    {
     "name": "stdout",
     "output_type": "stream",
     "text": [
      "Missing values in each column:\n",
      "time          0\n",
      "TEU           0\n",
      "loadratio     0\n",
      "gear          0\n",
      "wind          0\n",
      "rain          0\n",
      "weather       0\n",
      "onSchedule    0\n",
      "labour        0\n",
      "origin        0\n",
      "delay         0\n",
      "date          0\n",
      "port          0\n",
      "dtype: int64\n",
      "Shape of the dataset after removing rows with missing data:\n",
      "(1006, 13)\n"
     ]
    }
   ],
   "source": [
    "# Check for missing values in each column\n",
    "missing_values = ports_replacemissing.isnull().sum()\n",
    "print(\"Missing values in each column:\")\n",
    "print(missing_values)\n",
    "\n",
    "# Remove rows with missing data\n",
    "ports_replacemissing = ports_replacemissing.dropna()\n",
    "\n",
    "# Print the shape of the DataFrame after removing rows with missing data\n",
    "print(\"Shape of the dataset after removing rows with missing data:\")\n",
    "print(ports_replacemissing.shape)"
   ]
  },
  {
   "cell_type": "markdown",
   "id": "d1646c0c",
   "metadata": {},
   "source": [
    "### To identify and remove any duplicate rows from the DataFrame, I will:\n",
    "\n",
    "Use the duplicated() method to identify any duplicate rows, marking them as True if they are duplicates.\n",
    "Use the drop_duplicates() method to remove the duplicate rows.\n",
    "I will then display the number of duplicate rows identified and removed."
   ]
  },
  {
   "cell_type": "code",
   "execution_count": 4,
   "id": "b7764f9d",
   "metadata": {
    "ExecuteTime": {
     "end_time": "2024-01-24T22:18:07.199593Z",
     "start_time": "2024-01-24T22:18:07.180719Z"
    }
   },
   "outputs": [
    {
     "name": "stdout",
     "output_type": "stream",
     "text": [
      "6\n"
     ]
    }
   ],
   "source": [
    "# Identifying duplicate rows\n",
    "duplicate_rows = ports_replacemissing.duplicated()\n",
    "num_duplicates = duplicate_rows.sum()\n",
    "\n",
    "# Displaying the number of duplicate rows\n",
    "print(num_duplicates)"
   ]
  },
  {
   "cell_type": "markdown",
   "id": "f9a171a5",
   "metadata": {},
   "source": [
    "The dataset contains 6 duplicate rows. I will now remove these duplicates and confirm their removal.\n",
    "\n",
    "Damodaram (2022) and Steorts (2023) emphasise the importance of removing duplicates in data management and analysis, highlighting its role in maintaining data integrity and quality.\n",
    "\n",
    "The below code identifies and displays the number of duplicate rows in the 'ports' DataFrame."
   ]
  },
  {
   "cell_type": "code",
   "execution_count": 5,
   "id": "608cdb05",
   "metadata": {
    "ExecuteTime": {
     "end_time": "2024-01-24T22:18:08.545664Z",
     "start_time": "2024-01-24T22:18:08.528059Z"
    }
   },
   "outputs": [
    {
     "name": "stdout",
     "output_type": "stream",
     "text": [
      "0 (1000, 13)\n"
     ]
    }
   ],
   "source": [
    "# Removing duplicate rows\n",
    "ports_replacemissing = ports_replacemissing.drop_duplicates()\n",
    "\n",
    "# Verifying if duplicates are removed\n",
    "remaining_duplicates = ports_replacemissing.duplicated().sum()\n",
    "\n",
    "# Display the result\n",
    "remaining_duplicates, ports_replacemissing.shape\n",
    "print(remaining_duplicates, ports_replacemissing.shape)"
   ]
  },
  {
   "cell_type": "markdown",
   "id": "096590b8",
   "metadata": {},
   "source": [
    "I have successfully removed six duplicates rows from our dataset. As a result, the dataset now comprises 1000 rows and 13 columns."
   ]
  },
  {
   "cell_type": "markdown",
   "id": "1cb216ec",
   "metadata": {},
   "source": [
    "## Convert the rain column from text to numerical format."
   ]
  },
  {
   "cell_type": "markdown",
   "id": "2918c829",
   "metadata": {},
   "source": [
    "I will strip the \"mm\" from the values and convert the column to a float type."
   ]
  },
  {
   "cell_type": "code",
   "execution_count": 6,
   "id": "35330ea4",
   "metadata": {
    "ExecuteTime": {
     "end_time": "2024-01-24T22:18:11.067424Z",
     "start_time": "2024-01-24T22:18:11.045215Z"
    }
   },
   "outputs": [
    {
     "data": {
      "text/html": [
       "<div>\n",
       "<style scoped>\n",
       "    .dataframe tbody tr th:only-of-type {\n",
       "        vertical-align: middle;\n",
       "    }\n",
       "\n",
       "    .dataframe tbody tr th {\n",
       "        vertical-align: top;\n",
       "    }\n",
       "\n",
       "    .dataframe thead th {\n",
       "        text-align: right;\n",
       "    }\n",
       "</style>\n",
       "<table border=\"1\" class=\"dataframe\">\n",
       "  <thead>\n",
       "    <tr style=\"text-align: right;\">\n",
       "      <th></th>\n",
       "      <th>time</th>\n",
       "      <th>TEU</th>\n",
       "      <th>loadratio</th>\n",
       "      <th>gear</th>\n",
       "      <th>wind</th>\n",
       "      <th>rain</th>\n",
       "      <th>weather</th>\n",
       "      <th>onSchedule</th>\n",
       "      <th>labour</th>\n",
       "      <th>origin</th>\n",
       "      <th>delay</th>\n",
       "      <th>date</th>\n",
       "      <th>port</th>\n",
       "    </tr>\n",
       "  </thead>\n",
       "  <tbody>\n",
       "    <tr>\n",
       "      <th>0</th>\n",
       "      <td>263.2</td>\n",
       "      <td>8645</td>\n",
       "      <td>85.4</td>\n",
       "      <td>0.0</td>\n",
       "      <td>3.9</td>\n",
       "      <td>8.4</td>\n",
       "      <td>disruptive</td>\n",
       "      <td>Yes</td>\n",
       "      <td>working</td>\n",
       "      <td>Intercontinental</td>\n",
       "      <td>No</td>\n",
       "      <td>2022-11-01</td>\n",
       "      <td>Abermouth</td>\n",
       "    </tr>\n",
       "    <tr>\n",
       "      <th>1</th>\n",
       "      <td>177.9</td>\n",
       "      <td>2106</td>\n",
       "      <td>80.8</td>\n",
       "      <td>1.0</td>\n",
       "      <td>7.5</td>\n",
       "      <td>7.7</td>\n",
       "      <td>disruptive</td>\n",
       "      <td>Yes</td>\n",
       "      <td>1</td>\n",
       "      <td>Intercontinental</td>\n",
       "      <td>Yes</td>\n",
       "      <td>2021-09-09</td>\n",
       "      <td>Abermouth</td>\n",
       "    </tr>\n",
       "    <tr>\n",
       "      <th>2</th>\n",
       "      <td>269.3</td>\n",
       "      <td>7872</td>\n",
       "      <td>90.4</td>\n",
       "      <td>3.0</td>\n",
       "      <td>6.9</td>\n",
       "      <td>19.3</td>\n",
       "      <td>disruptive</td>\n",
       "      <td>Yes</td>\n",
       "      <td>1</td>\n",
       "      <td>Intercontinental</td>\n",
       "      <td>No</td>\n",
       "      <td>2021-08-05</td>\n",
       "      <td>Abermouth</td>\n",
       "    </tr>\n",
       "    <tr>\n",
       "      <th>3</th>\n",
       "      <td>122.2</td>\n",
       "      <td>1938</td>\n",
       "      <td>72.2</td>\n",
       "      <td>1.0</td>\n",
       "      <td>8.9</td>\n",
       "      <td>3.8</td>\n",
       "      <td>normal</td>\n",
       "      <td>Yes</td>\n",
       "      <td>working</td>\n",
       "      <td>UK</td>\n",
       "      <td>No</td>\n",
       "      <td>2022-11-03</td>\n",
       "      <td>Abermouth</td>\n",
       "    </tr>\n",
       "    <tr>\n",
       "      <th>4</th>\n",
       "      <td>165.0</td>\n",
       "      <td>1669</td>\n",
       "      <td>80.0</td>\n",
       "      <td>4.0</td>\n",
       "      <td>2.0</td>\n",
       "      <td>0.1</td>\n",
       "      <td>normal</td>\n",
       "      <td>No</td>\n",
       "      <td>striking</td>\n",
       "      <td>UK</td>\n",
       "      <td>Yes</td>\n",
       "      <td>2022-02-01</td>\n",
       "      <td>Abermouth</td>\n",
       "    </tr>\n",
       "  </tbody>\n",
       "</table>\n",
       "</div>"
      ],
      "text/plain": [
       "    time   TEU  loadratio  gear  wind  rain     weather onSchedule    labour  \\\n",
       "0  263.2  8645       85.4   0.0   3.9   8.4  disruptive        Yes   working   \n",
       "1  177.9  2106       80.8   1.0   7.5   7.7  disruptive        Yes         1   \n",
       "2  269.3  7872       90.4   3.0   6.9  19.3  disruptive        Yes         1   \n",
       "3  122.2  1938       72.2   1.0   8.9   3.8      normal        Yes   working   \n",
       "4  165.0  1669       80.0   4.0   2.0   0.1      normal         No  striking   \n",
       "\n",
       "             origin delay        date       port  \n",
       "0  Intercontinental    No  2022-11-01  Abermouth  \n",
       "1  Intercontinental   Yes  2021-09-09  Abermouth  \n",
       "2  Intercontinental    No  2021-08-05  Abermouth  \n",
       "3                UK    No  2022-11-03  Abermouth  \n",
       "4                UK   Yes  2022-02-01  Abermouth  "
      ]
     },
     "execution_count": 6,
     "metadata": {},
     "output_type": "execute_result"
    }
   ],
   "source": [
    "# # Strip \"mm\" from the 'rain' column and convert to float\n",
    "# ports_replacemissing['rain'] = ports_replacemissing['rain'].str.replace('mm', '').astype(float)\n",
    "\n",
    "# # Display the modified data\n",
    "# ports_replacemissing.head()\n",
    "\n",
    "# Check if 'rain' column exists in the DataFrame, then strip \"mm\" and convert to float\n",
    "if 'rain' in ports_replacemissing.columns:\n",
    "    ports_replacemissing['rain'] = ports_replacemissing['rain'].str.replace('mm', '').astype(float)\n",
    "else:\n",
    "    print(\"The 'rain' column does not exist in the DataFrame.\")\n",
    "\n",
    "# Display the modified data\n",
    "ports_replacemissing.head()"
   ]
  },
  {
   "cell_type": "markdown",
   "id": "56780022",
   "metadata": {},
   "source": [
    "The 'rain' column's \"mm\" values have been stripped, converting the data to a numerical type. It is crucial to format data appropriately for precise and efficient processing in data analysis. Take the 'rain' column as an example: changing values from a string format like \"3.1mm\" to a numerical one such as 3.1 is essential for quantitative analysis.\n",
    "\n",
    "Using numerical data allows for various statistical calculations, such as computing averages, examining correlations, and performing regression analyses, which are complex with string data."
   ]
  },
  {
   "cell_type": "markdown",
   "id": "766ff4fe",
   "metadata": {},
   "source": [
    "## Standardise the labour column to have consistent formatting."
   ]
  },
  {
   "cell_type": "markdown",
   "id": "6562986b",
   "metadata": {},
   "source": [
    "I intend to unify the 'labour' column by substituting '0' with 'striking' and '1' with 'working', ensuring consistency throughout the column."
   ]
  },
  {
   "cell_type": "code",
   "execution_count": 7,
   "id": "5e66d173",
   "metadata": {
    "ExecuteTime": {
     "end_time": "2024-01-24T22:18:13.671018Z",
     "start_time": "2024-01-24T22:18:13.650324Z"
    }
   },
   "outputs": [
    {
     "data": {
      "text/html": [
       "<div>\n",
       "<style scoped>\n",
       "    .dataframe tbody tr th:only-of-type {\n",
       "        vertical-align: middle;\n",
       "    }\n",
       "\n",
       "    .dataframe tbody tr th {\n",
       "        vertical-align: top;\n",
       "    }\n",
       "\n",
       "    .dataframe thead th {\n",
       "        text-align: right;\n",
       "    }\n",
       "</style>\n",
       "<table border=\"1\" class=\"dataframe\">\n",
       "  <thead>\n",
       "    <tr style=\"text-align: right;\">\n",
       "      <th></th>\n",
       "      <th>time</th>\n",
       "      <th>TEU</th>\n",
       "      <th>loadratio</th>\n",
       "      <th>gear</th>\n",
       "      <th>wind</th>\n",
       "      <th>rain</th>\n",
       "      <th>weather</th>\n",
       "      <th>onSchedule</th>\n",
       "      <th>labour</th>\n",
       "      <th>origin</th>\n",
       "      <th>delay</th>\n",
       "      <th>date</th>\n",
       "      <th>port</th>\n",
       "    </tr>\n",
       "  </thead>\n",
       "  <tbody>\n",
       "    <tr>\n",
       "      <th>0</th>\n",
       "      <td>263.2</td>\n",
       "      <td>8645</td>\n",
       "      <td>85.4</td>\n",
       "      <td>0.0</td>\n",
       "      <td>3.9</td>\n",
       "      <td>8.4</td>\n",
       "      <td>disruptive</td>\n",
       "      <td>Yes</td>\n",
       "      <td>working</td>\n",
       "      <td>Intercontinental</td>\n",
       "      <td>No</td>\n",
       "      <td>2022-11-01</td>\n",
       "      <td>Abermouth</td>\n",
       "    </tr>\n",
       "    <tr>\n",
       "      <th>1</th>\n",
       "      <td>177.9</td>\n",
       "      <td>2106</td>\n",
       "      <td>80.8</td>\n",
       "      <td>1.0</td>\n",
       "      <td>7.5</td>\n",
       "      <td>7.7</td>\n",
       "      <td>disruptive</td>\n",
       "      <td>Yes</td>\n",
       "      <td>working</td>\n",
       "      <td>Intercontinental</td>\n",
       "      <td>Yes</td>\n",
       "      <td>2021-09-09</td>\n",
       "      <td>Abermouth</td>\n",
       "    </tr>\n",
       "    <tr>\n",
       "      <th>2</th>\n",
       "      <td>269.3</td>\n",
       "      <td>7872</td>\n",
       "      <td>90.4</td>\n",
       "      <td>3.0</td>\n",
       "      <td>6.9</td>\n",
       "      <td>19.3</td>\n",
       "      <td>disruptive</td>\n",
       "      <td>Yes</td>\n",
       "      <td>working</td>\n",
       "      <td>Intercontinental</td>\n",
       "      <td>No</td>\n",
       "      <td>2021-08-05</td>\n",
       "      <td>Abermouth</td>\n",
       "    </tr>\n",
       "    <tr>\n",
       "      <th>3</th>\n",
       "      <td>122.2</td>\n",
       "      <td>1938</td>\n",
       "      <td>72.2</td>\n",
       "      <td>1.0</td>\n",
       "      <td>8.9</td>\n",
       "      <td>3.8</td>\n",
       "      <td>normal</td>\n",
       "      <td>Yes</td>\n",
       "      <td>working</td>\n",
       "      <td>UK</td>\n",
       "      <td>No</td>\n",
       "      <td>2022-11-03</td>\n",
       "      <td>Abermouth</td>\n",
       "    </tr>\n",
       "    <tr>\n",
       "      <th>4</th>\n",
       "      <td>165.0</td>\n",
       "      <td>1669</td>\n",
       "      <td>80.0</td>\n",
       "      <td>4.0</td>\n",
       "      <td>2.0</td>\n",
       "      <td>0.1</td>\n",
       "      <td>normal</td>\n",
       "      <td>No</td>\n",
       "      <td>striking</td>\n",
       "      <td>UK</td>\n",
       "      <td>Yes</td>\n",
       "      <td>2022-02-01</td>\n",
       "      <td>Abermouth</td>\n",
       "    </tr>\n",
       "  </tbody>\n",
       "</table>\n",
       "</div>"
      ],
      "text/plain": [
       "    time   TEU  loadratio  gear  wind  rain     weather onSchedule    labour  \\\n",
       "0  263.2  8645       85.4   0.0   3.9   8.4  disruptive        Yes   working   \n",
       "1  177.9  2106       80.8   1.0   7.5   7.7  disruptive        Yes   working   \n",
       "2  269.3  7872       90.4   3.0   6.9  19.3  disruptive        Yes   working   \n",
       "3  122.2  1938       72.2   1.0   8.9   3.8      normal        Yes   working   \n",
       "4  165.0  1669       80.0   4.0   2.0   0.1      normal         No  striking   \n",
       "\n",
       "             origin delay        date       port  \n",
       "0  Intercontinental    No  2022-11-01  Abermouth  \n",
       "1  Intercontinental   Yes  2021-09-09  Abermouth  \n",
       "2  Intercontinental    No  2021-08-05  Abermouth  \n",
       "3                UK    No  2022-11-03  Abermouth  \n",
       "4                UK   Yes  2022-02-01  Abermouth  "
      ]
     },
     "execution_count": 7,
     "metadata": {},
     "output_type": "execute_result"
    }
   ],
   "source": [
    "# Replace '0' with 'striking' and '1' with 'working' in the 'labour' column\n",
    "ports_replacemissing['labour'] = ports_replacemissing['labour'].replace({'0': 'striking', '1': 'working'})\n",
    "\n",
    "# Display the modified data\n",
    "ports_replacemissing.head()"
   ]
  },
  {
   "cell_type": "markdown",
   "id": "71ad54b2",
   "metadata": {},
   "source": [
    "I have made the 'labour' column consistent by replacing '0' with 'striking' and '1' with 'working'. This standardisation of categorical data, demonstrated by the transformation of '0' and '1' to 'striking' and 'working', enhances clarity and uniformity in the dataset. It not only aids in category-based analysis but also improves the readability of the data.\n",
    "\n",
    "This process of data cleaning and standardisation is crucial, as emphasised by Steorts (2023) in \"A Primer on the Data Cleaning Pipeline\" and Zacks, Kenett, and Gedeck (2023) in \"Modern Statistics: A Computer-Based Approach with Python Solutions.\" These authors underline the importance of thorough data preparation for achieving accurate and insightful analysis, highlighting the fundamental role of data preprocessing in statistics."
   ]
  },
  {
   "cell_type": "markdown",
   "id": "251cffdf",
   "metadata": {},
   "source": [
    "# Data Exploration Tasks - Statistics of individual variables:"
   ]
  },
  {
   "cell_type": "markdown",
   "id": "b77f602c",
   "metadata": {},
   "source": [
    "To summarise and comment upon the data for the three numerical variables (time, TEU, and wind), I calculate relevant summary statistics and create visualisations.\n",
    "\n",
    "### a) Time:\n",
    "\n",
    "Time is a continuous numerical variable that likely represents a period or timestamp. Summary statistics and visualisations for time data can provide insights into patterns and trends over time.\n",
    "\n",
    "### Summary Statistics:\n",
    "\n",
    "Mean (average time)\n",
    "Median (middle time)\n",
    "Standard Deviation (spread of time values)\n",
    "Minimum and Maximum (start and end times)\n",
    "Quartiles (25th, 50th, 75th percentiles)\n",
    "\n",
    "### Visualisations:\n",
    "\n",
    "Time Series Plot: I create a line chart showing how the variable changes over time. This can reveal trends, seasonality, and outliers.\n",
    "\n",
    "Histogram or Density Plot: Create a histogram or density plot to show the distribution of time values. This can help identify any patterns in the time data."
   ]
  },
  {
   "cell_type": "code",
   "execution_count": 8,
   "id": "fdd77744",
   "metadata": {
    "ExecuteTime": {
     "end_time": "2024-01-24T22:18:17.269889Z",
     "start_time": "2024-01-24T22:18:16.909534Z"
    }
   },
   "outputs": [
    {
     "name": "stdout",
     "output_type": "stream",
     "text": [
      "Using pandas module functions\n",
      "n = 1000\n",
      "Measures of central location\n",
      "mean = 242.1025\n",
      "median = 231.4\n",
      "Measures of spread\n",
      "range = 532.6\n",
      "quartiles = 0.25    177.900\n",
      "0.50    231.400\n",
      "0.75    295.625\n",
      "Name: time, dtype: float64\n",
      "IQR = 117.725\n",
      "stdev = 85.29927508531406\n",
      "pop stdev = 85.25661478002749\n",
      "Measures of shape\n",
      "skewness = 0.5672599044505674\n",
      "excess kurtosis = 0.09328304757823647\n"
     ]
    },
    {
     "data": {
      "image/png": "[encoded data removed]",
      "text/plain": [
       "<Figure size 640x480 with 1 Axes>"
      ]
     },
     "metadata": {},
     "output_type": "display_data"
    },
    {
     "data": {
      "image/png": "[encoded data removed]",
      "text/plain": [
       "<Figure size 640x480 with 1 Axes>"
      ]
     },
     "metadata": {},
     "output_type": "display_data"
    }
   ],
   "source": [
    "\n",
    "# Display basic statistics\n",
    "print(\"Using pandas module functions\")\n",
    "print(\"n =\", ports_replacemissing['time'].count())\n",
    "\n",
    "# Measures of central location\n",
    "print(\"Measures of central location\")\n",
    "print(\"mean =\", ports_replacemissing['time'].mean())\n",
    "print(\"median =\", ports_replacemissing['time'].median())\n",
    "\n",
    "# Measures of spread\n",
    "print(\"Measures of spread\")\n",
    "print(\"range =\", ports_replacemissing['time'].max() - ports_replacemissing['time'].min())\n",
    "q = ports_replacemissing['time'].quantile([0.25, 0.5, 0.75])\n",
    "print(\"quartiles =\", q)\n",
    "print(\"IQR =\", ports_replacemissing['time'].quantile(0.75) - ports_replacemissing['time'].quantile(0.25))\n",
    "print(\"stdev =\", ports_replacemissing['time'].std())\n",
    "print(\"pop stdev =\", ports_replacemissing['time'].std(ddof=0))\n",
    "\n",
    "# Measures of shape\n",
    "print(\"Measures of shape\")\n",
    "print(\"skewness =\", ports_replacemissing['time'].skew())\n",
    "print(\"excess kurtosis =\", ports_replacemissing['time'].kurt())\n",
    "\n",
    "# Create a histogram\n",
    "sns.histplot(ports_replacemissing['time'], kde=True)\n",
    "plt.title(\"Time Histogram\")\n",
    "plt.xlabel(\"Time\")\n",
    "plt.ylabel(\"Frequency\")\n",
    "plt.show()\n",
    "\n",
    "# Create a box plot\n",
    "ports_replacemissing['time'].plot.box()\n",
    "plt.title(\"Time Box Plot\")\n",
    "plt.show()"
   ]
  },
  {
   "cell_type": "markdown",
   "id": "7e5cbed2",
   "metadata": {},
   "source": [
    "The histogram and boxplot display the distribution of 'time' with 1000 observations (n = 1000). The histogram reveals a distribution with a positive skew (skewness = 0.567), indicating a tail with higher time values. The mean 'time' is 242.1, slightly above the median of 231.4, consistent with a positive skewness. The IQR of 117.725 suggests a moderate spread of the middle 50% of data around the median. The excess kurtosis close to zero (0.093) implies a distribution with tails similar to a normal distribution, which is neither mainly flat nor peaked. Outliers are visible in the boxplot, indicating significantly higher time spent than typical, which could signify operational anomalies or data recording errors."
   ]
  },
  {
   "cell_type": "markdown",
   "id": "db2d015f",
   "metadata": {},
   "source": [
    "### b) TEU (Twenty-foot Equivalent Unit):\n",
    "    \n",
    "TEU is a numerical variable representing cargo container capacity.\n",
    "\n",
    "### Summary Statistics:\n",
    "\n",
    "Mean (average TEU) Median (middle TEU) Standard Deviation (spread of TEU values) Minimum and Maximum (minimum and maximum TEU) Quartiles (25th, 50th, 75th percentiles) Visualizations:\n",
    "\n",
    "Histogram: Create a histogram to visualize the distribution of TEU values. Helps identify common capacity values.\n",
    "\n",
    "### Box Plot: A box plot can show the median, quartiles, and any outliers in the TEU data, giving insights into the spread of capacity values."
   ]
  },
  {
   "cell_type": "code",
   "execution_count": 10,
   "id": "25d075c8",
   "metadata": {
    "ExecuteTime": {
     "end_time": "2024-01-24T22:25:06.428291Z",
     "start_time": "2024-01-24T22:25:06.195417Z"
    }
   },
   "outputs": [
    {
     "name": "stdout",
     "output_type": "stream",
     "text": [
      "Using pandas module functions\n",
      "n = 1000\n",
      "Measures of central location\n",
      "mean = 6176.263\n",
      "median = 6274.0\n",
      "Measures of spread\n",
      "range = 11794\n",
      "quartiles = 0.25    2940.75\n",
      "0.50    6274.00\n",
      "0.75    9420.25\n",
      "Name: TEU, dtype: float64\n",
      "IQR = 6479.5\n",
      "stdev = 3613.3406061658766\n",
      "pop stdev = 3611.5334839692428\n",
      "Measures of shape\n",
      "skewness = -0.043795419233411265\n",
      "excess kurtosis = -1.2698941355029683\n"
     ]
    },
    {
     "data": {
      "image/png": "[encoded data removed]",
      "text/plain": [
       "<Figure size 640x480 with 1 Axes>"
      ]
     },
     "metadata": {},
     "output_type": "display_data"
    },
    {
     "data": {
      "image/png": "[encoded data removed]",
      "text/plain": [
       "<Figure size 640x480 with 1 Axes>"
      ]
     },
     "metadata": {},
     "output_type": "display_data"
    }
   ],
   "source": [
    "import pandas as pd\n",
    "import matplotlib.pyplot as plt\n",
    "\n",
    "# Display basic statistics\n",
    "print(\"Using pandas module functions\")\n",
    "print(\"n =\", ports_replacemissing['TEU'].count())\n",
    "\n",
    "# Measures of central location\n",
    "print(\"Measures of central location\")\n",
    "print(\"mean =\", ports_replacemissing['TEU'].mean())\n",
    "print(\"median =\", ports_replacemissing['TEU'].median())\n",
    "\n",
    "# Measures of spread\n",
    "print(\"Measures of spread\")\n",
    "print(\"range =\", ports_replacemissing['TEU'].max() - ports_replacemissing['TEU'].min())\n",
    "q = ports_replacemissing['TEU'].quantile([0.25, 0.5, 0.75])\n",
    "print(\"quartiles =\", q)\n",
    "print(\"IQR =\", ports_replacemissing['TEU'].quantile(0.75) - ports_replacemissing['TEU'].quantile(0.25))\n",
    "print(\"stdev =\", ports_replacemissing['TEU'].std())\n",
    "print(\"pop stdev =\", ports_replacemissing['TEU'].std(ddof=0))\n",
    "\n",
    "# Measures of shape\n",
    "print(\"Measures of shape\")\n",
    "print(\"skewness =\", ports_replacemissing['TEU'].skew())\n",
    "print(\"excess kurtosis =\", ports_replacemissing['TEU'].kurt())\n",
    "\n",
    "# Create a histogram\n",
    "sns.histplot(ports_replacemissing['TEU'], kde=True)\n",
    "plt.title(\"TEU Histogram\")\n",
    "plt.xlabel(\"TEU\")\n",
    "plt.ylabel(\"Frequency\")\n",
    "plt.show()\n",
    "\n",
    "# Create a box plot\n",
    "ports_replacemissing['TEU'].plot.box()\n",
    "plt.title(\"TEU Box Plot\")\n",
    "plt.show()"
   ]
  },
  {
   "cell_type": "markdown",
   "id": "7b1af976",
   "metadata": {},
   "source": [
    "The histogram and boxplot for TEU (Twenty-foot Equivalent Unit) reflect a dataset of 1000 observations with a uniform distribution, evidenced by the minor negative skewness (-0.0438) and an excess kurtosis of -1.27, suggesting a slightly flatter peak than a normal distribution. The median (6274) is marginally higher than the mean (6176.263), consistent with the slight left skew. The IQR is sizeable at 6479.5, indicating a considerable spread of the middle 50% of the data. Notably, the histogram shows a less common TEU range between 8000 to 10000, with a resurgence beyond 10000. This could suggest a bimodal distribution, where two different groups of ships—perhaps by size or cargo type—are represented in the dataset."
   ]
  },
  {
   "cell_type": "markdown",
   "id": "d4effd7f",
   "metadata": {
    "ExecuteTime": {
     "end_time": "2024-01-24T22:25:08.702275Z",
     "start_time": "2024-01-24T22:25:08.692562Z"
    }
   },
   "source": [
    "### (c) Wind\n",
    "\n",
    "Wind is a numerical variable that measures wind speed.\n",
    "\n",
    "### Summary Statistics:\n",
    "\n",
    "Mean (average wind speed) Median (middle wind speed) Standard Deviation (spread of wind speed values) Minimum and Maximum (minimum and maximum wind speed) Quartiles (25th, 50th, 75th percentiles) Visualizations:\n",
    "\n",
    "Histogram: Create a histogram to visualize the distribution of wind speed values. This can help identify common wind speed ranges.\n",
    "\n",
    "Box Plot: A box plot can show the median, quartiles, and any outliers in the wind speed data, giving insights into the spread of wind speed values.\n",
    "\n",
    "### Comments:\n",
    "\n",
    "For time data, I observe time patterns/trends.\n",
    "TEU data helps understand the capacity of cargo containers.\n",
    "Wind data provide insights into the wind speed conditions at the ports."
   ]
  },
  {
   "cell_type": "markdown",
   "id": "265d4b9f",
   "metadata": {},
   "source": []
  },
  {
   "cell_type": "code",
   "execution_count": 12,
   "id": "b9561d1d",
   "metadata": {
    "ExecuteTime": {
     "end_time": "2024-01-24T22:25:38.455470Z",
     "start_time": "2024-01-24T22:25:38.238901Z"
    }
   },
   "outputs": [
    {
     "name": "stdout",
     "output_type": "stream",
     "text": [
      "Using pandas module functions\n",
      "n = 1000\n",
      "Measures of central location\n",
      "mean = 5.6769469035533\n",
      "median = 4.9\n",
      "Measures of spread\n",
      "range = 25.4\n",
      "quartiles = 0.25    2.6\n",
      "0.50    4.9\n",
      "0.75    8.0\n",
      "Name: wind, dtype: float64\n",
      "IQR = 5.4\n",
      "stdev = 4.0863108785430775\n",
      "pop stdev = 4.084267212059392\n",
      "Measures of shape\n",
      "skewness = 1.101215618226933\n",
      "excess kurtosis = 1.4764969171637046\n"
     ]
    },
    {
     "data": {
      "image/png": "[encoded data removed]",
      "text/plain": [
       "<Figure size 640x480 with 1 Axes>"
      ]
     },
     "metadata": {},
     "output_type": "display_data"
    },
    {
     "data": {
      "image/png": "[encoded data removed]",
      "text/plain": [
       "<Figure size 640x480 with 1 Axes>"
      ]
     },
     "metadata": {},
     "output_type": "display_data"
    }
   ],
   "source": [
    "import matplotlib.pyplot as plt   \n",
    "import pandas as pd\n",
    "import matplotlib.pyplot as plt\n",
    "\n",
    "\n",
    "# Display basic statistics\n",
    "print(\"Using pandas module functions\")\n",
    "print(\"n =\", ports_replacemissing['wind'].count())\n",
    "\n",
    "# Measures of central location\n",
    "print(\"Measures of central location\")\n",
    "print(\"mean =\", ports_replacemissing['wind'].mean())\n",
    "print(\"median =\", ports_replacemissing['wind'].median())\n",
    "\n",
    "# Measures of spread\n",
    "print(\"Measures of spread\")\n",
    "print(\"range =\", ports_replacemissing['wind'].max() - ports_replacemissing['wind'].min())\n",
    "q = ports_replacemissing['wind'].quantile([0.25, 0.5, 0.75])\n",
    "print(\"quartiles =\", q)\n",
    "print(\"IQR =\", ports_replacemissing['wind'].quantile(0.75) - ports_replacemissing['wind'].quantile(0.25))\n",
    "print(\"stdev =\", ports_replacemissing['wind'].std())\n",
    "print(\"pop stdev =\", ports_replacemissing['wind'].std(ddof=0))\n",
    "\n",
    "# Measures of shape\n",
    "print(\"Measures of shape\")\n",
    "print(\"skewness =\", ports_replacemissing['wind'].skew())\n",
    "print(\"excess kurtosis =\", ports_replacemissing['wind'].kurt())\n",
    "\n",
    "# Create a histogram\n",
    "sns.histplot(ports_replacemissing['wind'], kde=True)\n",
    "plt.title(\"Wind Histogram\")\n",
    "plt.xlabel(\"Wind\")\n",
    "plt.ylabel(\"Frequency\")\n",
    "plt.show()\n",
    "\n",
    "# Create a box plot\n",
    "ports_replacemissing['wind'].plot.box()\n",
    "plt.title(\"Wind Box Plot\")\n",
    "plt.show()"
   ]
  },
  {
   "cell_type": "markdown",
   "id": "73edc2aa",
   "metadata": {},
   "source": [
    "With its positively skewed (skewness = 1.10) distribution, the wind data suggests that higher wind speeds are less frequent. The histogram tails off to the right, confirming this skewness. The mean wind speed (5.68) is slightly above the median (4.9), which is typical for right-skewed data. The boxplot reveals several outliers, indicating sporadic high wind-speed occurrences—an IQR of 5.4 points to moderate variability in wind speeds. The excess kurtosis (1.48) indicates a leptokurtic distribution; wind speeds are more peaked and have fatter tails than a normal distribution, suggesting a greater probability of extreme values. This data could be crucial for assessing the impact of wind conditions on port operations."
   ]
  },
  {
   "cell_type": "markdown",
   "id": "ecff1898",
   "metadata": {},
   "source": [
    "### 4 (a) Origin\n",
    "\n",
    "For each of the individual categorical variables below, summarise and comment upon the data by calculating the frequency and relative proportion of each possible value, and by creating two suitable visualisations of their distributions."
   ]
  },
  {
   "cell_type": "code",
   "execution_count": 13,
   "id": "3e7847d1",
   "metadata": {
    "ExecuteTime": {
     "end_time": "2024-01-24T22:27:11.708022Z",
     "start_time": "2024-01-24T22:27:11.589816Z"
    }
   },
   "outputs": [
    {
     "data": {
      "image/png": "[encoded data removed]",
      "text/plain": [
       "<Figure size 800x500 with 2 Axes>"
      ]
     },
     "metadata": {},
     "output_type": "display_data"
    }
   ],
   "source": [
    "# Calculate frequency and relative proportion for each categorical variable\n",
    "# Replace 'variable_name' with the actual column name in your dataset\n",
    "\n",
    "# Origin variable\n",
    "origin_frequency = ports_replacemissing['origin'].value_counts()\n",
    "origin_proportion = ports_replacemissing['origin'].value_counts(normalize=True)\n",
    "\n",
    "# Visualisations\n",
    "\n",
    "# Origin variable visualisations\n",
    "plt.figure(figsize=(8, 5))\n",
    "plt.subplot(1, 2, 1)\n",
    "sns.countplot(data=ports_replacemissing, x='origin')\n",
    "plt.title(\"Origin Distribution\")\n",
    "plt.xlabel(\"Origin\")\n",
    "plt.ylabel(\"Frequency\")\n",
    "\n",
    "plt.subplot(1, 2, 2)\n",
    "origin_proportion.plot(kind='pie', autopct='%1.1f%%')\n",
    "plt.title(\"Origin Proportion\")\n",
    "plt.ylabel(None)\n",
    "\n",
    "plt.tight_layout()\n",
    "plt.show()"
   ]
  },
  {
   "cell_type": "markdown",
   "id": "cd52c399",
   "metadata": {},
   "source": [
    "The visualisations depict the distribution of ship origins in the dataset. The bar chart shows the frequency of ships from each origin, with 'UK' having the highest count, followed by 'Intercontinental', and 'Europe' being the least frequent. The pie chart complements this by displaying the relative proportion, where 'UK' again takes the most significant segment at 43.6%, 'Intercontinental' at 35%, and 'Europe' at 21.4%.\n",
    "\n",
    "These charts together provide a clear and immediate understanding of the composition of ship origins in the dataset. The predominance of UK ships could indicate a dataset centric on UK ports or routes. The lower proportion of European ships might suggest fewer routes or smaller trade volumes with the specific port."
   ]
  },
  {
   "cell_type": "markdown",
   "id": "265cfa6f",
   "metadata": {},
   "source": [
    "### 4 (b) labour"
   ]
  },
  {
   "cell_type": "code",
   "execution_count": 14,
   "id": "aa9c9b43",
   "metadata": {
    "ExecuteTime": {
     "end_time": "2024-01-24T22:28:13.145387Z",
     "start_time": "2024-01-24T22:28:13.038814Z"
    }
   },
   "outputs": [
    {
     "data": {
      "image/png": "[encoded data removed]",
      "text/plain": [
       "<Figure size 800x400 with 2 Axes>"
      ]
     },
     "metadata": {},
     "output_type": "display_data"
    },
    {
     "data": {
      "text/plain": [
       "(labour\n",
       " working     953\n",
       " striking     47\n",
       " Name: count, dtype: int64,\n",
       " labour\n",
       " working     0.953\n",
       " striking    0.047\n",
       " Name: proportion, dtype: float64)"
      ]
     },
     "execution_count": 14,
     "metadata": {},
     "output_type": "execute_result"
    }
   ],
   "source": [
    "# Calculate frequency and relative proportion for the 'labour' variable\n",
    "labour_frequency = ports_replacemissing['labour'].value_counts()\n",
    "labour_proportion = ports_replacemissing['labour'].value_counts(normalize=True)\n",
    "\n",
    "# Create visualizations for the 'labour' variable\n",
    "plt.figure(figsize=(8, 4))\n",
    "\n",
    "# Bar chart for labour frequency\n",
    "plt.subplot(1, 2, 1)\n",
    "labour_frequency.plot(kind='bar')\n",
    "plt.title(\"Labour Distribution\")\n",
    "plt.xlabel(\"Labour\")\n",
    "plt.ylabel(\"Frequency\")\n",
    "\n",
    "# Pie chart for labour proportion\n",
    "plt.subplot(1, 2, 2)\n",
    "labour_proportion.plot(kind='pie', autopct='%1.1f%%', startangle=140)\n",
    "plt.title(\"Labour Proportion\")\n",
    "plt.ylabel(None)  # Removes the 'labour' label on the y-axis\n",
    "\n",
    "plt.tight_layout()\n",
    "plt.show()\n",
    "\n",
    "labour_frequency, labour_proportion"
   ]
  },
  {
   "cell_type": "markdown",
   "id": "28ba77b7",
   "metadata": {},
   "source": [
    "The bar and pie charts illustrate the distribution of labour conditions within the dataset. The bar chart shows that the 'working' condition is overwhelmingly more common than 'striking', with 953 occurrences compared to 47. This significant disparity is highlighted in the pie chart, where 'working' accounts for 95.3% of the data, leaving 'striking' with a minimal slice at 4.7%.\n",
    "\n",
    "These visualisations effectively convey that normal working conditions predominate in the dataset, suggesting either a period of industrial stability or a selective recording of labour status. The tiny proportion of 'striking' could indicate rare labour disruptions or potentially underreported strike occurrences. Given the high frequency of 'working' conditions, any analysis of labour's impact on port operations would be heavily skewed towards normal operational conditions, possibly limiting insights into the effects of strikes."
   ]
  },
  {
   "cell_type": "code",
   "execution_count": null,
   "id": "ff04834c",
   "metadata": {},
   "outputs": [],
   "source": []
  }
 ],
 "metadata": {
  "kernelspec": {
   "display_name": "Python 3 (ipykernel)",
   "language": "python",
   "name": "python3"
  },
  "language_info": {
   "codemirror_mode": {
    "name": "ipython",
    "version": 3
   },
   "file_extension": ".py",
   "mimetype": "text/x-python",
   "name": "python",
   "nbconvert_exporter": "python",
   "pygments_lexer": "ipython3",
   "version": "3.11.5"
  },
  "toc": {
   "base_numbering": 1,
   "nav_menu": {},
   "number_sections": true,
   "sideBar": true,
   "skip_h1_title": false,
   "title_cell": "Table of Contents",
   "title_sidebar": "Contents",
   "toc_cell": false,
   "toc_position": {},
   "toc_section_display": true,
   "toc_window_display": false
  },
  "varInspector": {
   "cols": {
    "lenName": 16,
    "lenType": 16,
    "lenVar": 40
   },
   "kernels_config": {
    "python": {
     "delete_cmd_postfix": "",
     "delete_cmd_prefix": "del ",
     "library": "var_list.py",
     "varRefreshCmd": "print(var_dic_list())"
    },
    "r": {
     "delete_cmd_postfix": ") ",
     "delete_cmd_prefix": "rm(",
     "library": "var_list.r",
     "varRefreshCmd": "cat(var_dic_list()) "
    }
   },
   "types_to_exclude": [
    "module",
    "function",
    "builtin_function_or_method",
    "instance",
    "_Feature"
   ],
   "window_display": false
  }
 },
 "nbformat": 4,
 "nbformat_minor": 5
}
